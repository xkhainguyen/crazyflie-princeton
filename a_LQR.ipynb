{
 "cells": [
  {
   "cell_type": "code",
   "execution_count": 26,
   "metadata": {},
   "outputs": [
    {
     "name": "stdout",
     "output_type": "stream",
     "text": [
      "Reset Kalman filter.\n",
      "Switching to LQR!\n",
      "Taking off!\n",
      "Done!\n"
     ]
    }
   ],
   "source": [
    "import logging\n",
    "import random\n",
    "import time\n",
    "import numpy as np\n",
    "\n",
    "import cflib.crtp\n",
    "from cflib.crazyflie import Crazyflie\n",
    "from cflib.crazyflie.syncCrazyflie import SyncCrazyflie\n",
    "from cflib.crazyflie.log import LogConfig\n",
    "from cflib.crazyflie.syncLogger import SyncLogger\n",
    "\n",
    "URI = f'radio://0/1/2M'\n",
    "\n",
    "# Only output errors from the logging framework\n",
    "logging.basicConfig(level=logging.ERROR)\n",
    "\n",
    "if __name__ == '__main__':\n",
    "    cflib.crtp.init_drivers(enable_debug_driver=False)\n",
    "\n",
    "    with SyncCrazyflie(URI, cf=Crazyflie(rw_cache='./cache')) as scf:\n",
    "        cf = scf.cf\n",
    "        cf.param.set_value('kalman.resetEstimation', '1')\n",
    "        time.sleep(0.1)\n",
    "        cf.param.set_value('kalman.resetEstimation', '0')\n",
    "        time.sleep(2)\n",
    "        print('Reset Kalman filter.')\n",
    "            \n",
    "        print('Switching to LQR!')\n",
    "        cf.param.set_value('stabilizer.controller', '5')\n",
    "\n",
    "        print('Taking off!')\n",
    "\n",
    "        for y in range(10):\n",
    "            cf.commander.send_position_setpoint(0, 0, y / 25, 0)\n",
    "            #cf.commander.send_stop_setpoint()\n",
    "            time.sleep(0.1)\n",
    "\n",
    "        for _ in range(60):\n",
    "            cf.commander.send_position_setpoint(0, 0, 0.5, 0)\n",
    "            time.sleep(0.1)\n",
    "\n",
    "        for _ in range(60):\n",
    "            cf.commander.send_position_setpoint(0.8, 0.5, 0.5, 0)\n",
    "            time.sleep(0.1)\n",
    "\n",
    "        for y in range(10):\n",
    "            cf.commander.send_position_setpoint(0, 0, (10 - y) / 25, 0)\n",
    "            time.sleep(0.15)\n",
    "\n",
    "        for i in range(10):\n",
    "            cf.commander.send_stop_setpoint()\n",
    "            time.sleep(0.1)\n",
    "\n",
    "print('Done!') "
   ]
  }
 ],
 "metadata": {
  "kernelspec": {
   "display_name": "Python 3.9.12 ('base')",
   "language": "python",
   "name": "python3"
  },
  "language_info": {
   "codemirror_mode": {
    "name": "ipython",
    "version": 3
   },
   "file_extension": ".py",
   "mimetype": "text/x-python",
   "name": "python",
   "nbconvert_exporter": "python",
   "pygments_lexer": "ipython3",
   "version": "3.8.10"
  },
  "vscode": {
   "interpreter": {
    "hash": "5d6b650af6f1107438756dd1352d7a89a41a028ee2fcef37485db36a2d7039ba"
   }
  }
 },
 "nbformat": 4,
 "nbformat_minor": 2
}

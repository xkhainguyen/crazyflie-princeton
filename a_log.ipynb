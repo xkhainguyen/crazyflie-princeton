{
 "cells": [
  {
   "cell_type": "code",
   "execution_count": 39,
   "metadata": {},
   "outputs": [],
   "source": [
    "import matplotlib.pyplot as plt\n",
    "import numpy as np\n",
    "from IPython.display import HTML, Image"
   ]
  },
  {
   "cell_type": "code",
   "execution_count": 40,
   "metadata": {},
   "outputs": [
    {
     "name": "stdout",
     "output_type": "stream",
     "text": [
      "Reset Kalman filter.\n",
      "Saving data...\n",
      "Done!\n"
     ]
    }
   ],
   "source": [
    "import logging\n",
    "import time\n",
    "import numpy as np\n",
    "\n",
    "import cflib.crtp\n",
    "from cflib.crazyflie import Crazyflie\n",
    "from cflib.crazyflie.syncCrazyflie import SyncCrazyflie\n",
    "from cflib.crazyflie.log import LogConfig\n",
    "from cflib.crazyflie.syncLogger import SyncLogger\n",
    "\n",
    "URI = f'radio://0/80/2M/E7E7E7E701'\n",
    "\n",
    "# Only output errors from the logging framework\n",
    "logging.basicConfig(level=logging.ERROR)\n",
    "\n",
    "log_keys = ['qx', 'qy', 'qz', 'qw']\n",
    "other_log_keys = []\n",
    "\n",
    "if __name__ == '__main__':\n",
    "    cflib.crtp.init_drivers(enable_debug_driver=False)\n",
    "\n",
    "    with SyncCrazyflie(URI, cf=Crazyflie(rw_cache='./cache')) as scf:\n",
    "        cf = scf.cf\n",
    "\n",
    "        lg_stab = LogConfig(name='MPC', period_in_ms=10)\n",
    "        lg_data = {}\n",
    "\n",
    "        for key in log_keys:\n",
    "            lg_stab.add_variable('stateEstimate.' + key, 'float')\n",
    "            lg_data[key] = []\n",
    "\n",
    "        for key in other_log_keys:\n",
    "            lg_stab.add_variable( key, 'float')\n",
    "            lg_data[key.split('.')[1]] = []\n",
    "\n",
    "        cf.param.set_value('kalman.resetEstimation', '1')  # will reset all states\n",
    "        time.sleep(0.1)\n",
    "        cf.param.set_value('kalman.resetEstimation', '0')\n",
    "        time.sleep(2)\n",
    "        print('Reset Kalman filter.')\n",
    "            \n",
    "        delta_max = 2.0\n",
    "        with SyncLogger(scf, lg_stab) as logger:\n",
    "            t_start = time.time()\n",
    "            entry_count = 0\n",
    "\n",
    "            for log_entry in logger:\n",
    "                delta_t = time.time() - t_start\n",
    "\n",
    "                for key, value in log_entry[1].items():\n",
    "                    lg_data[key.split('.')[1]].append(value)\n",
    "\n",
    "                entry_count += 1\n",
    "\n",
    "                if delta_t > delta_max:  # x100 data points\n",
    "                    break\n",
    "\n",
    "        print('Saving data...')\n",
    "        for key in lg_data.keys():\n",
    "            lg_data[key] = np.array(lg_data[key])\n",
    "\n",
    "        np.savez('quad_data/quad_traj', **lg_data)\n",
    "print('Done!') "
   ]
  },
  {
   "cell_type": "code",
   "execution_count": 41,
   "metadata": {},
   "outputs": [
    {
     "data": {
      "image/png": "[encoded data removed]",
      "text/plain": [
       "<Figure size 1600x800 with 1 Axes>"
      ]
     },
     "metadata": {},
     "output_type": "display_data"
    }
   ],
   "source": [
    "import os\n",
    "N = int(delta_max * 100) - 1\n",
    "if os.path.isfile('quad_data/quad_traj.npz'):\n",
    "    npzfile = np.load('quad_data/quad_traj.npz')\n",
    "\n",
    "    plt.rcParams[\"figure.figsize\"] = (16,8)\n",
    "    fig = plt.figure()\n",
    "\n",
    "    ax = fig.add_subplot(311, title='Controls')\n",
    "    ax.plot(npzfile['qx'][:N], label='qx')\n",
    "    ax.plot(npzfile['qy'][:N], label='qy')\n",
    "    ax.plot(npzfile['qz'][:N], label='qz')\n",
    "    # ax.plot(npzfile['u3'][:N], label='u3')\n",
    "    ax.legend()\n",
    "\n",
    "    # ax = fig.add_subplot(312, title='Result')\n",
    "    # result = np.zeros(N)\n",
    "    # for i in range(N): \n",
    "    #     if (npzfile['result'][i] < 0):\n",
    "    #         result[i] = 0\n",
    "    #     else:\n",
    "    #         result[i] = npzfile['result'][i]\n",
    "    # ax.plot(result[:N])\n",
    "\n",
    "    # ax = fig.add_subplot(313, title='Moments')\n",
    "    # ax.plot(npzfile['u2_pwm'][:125] / (2 ** 15), label='M1')\n",
    "    # ax.plot(npzfile['u3_pwm'][:125] / (2 ** 15), label='M2')\n",
    "    # ax.legend()\n",
    "    \n",
    "else:\n",
    "    print('No flight data found.')"
   ]
  },
  {
   "cell_type": "code",
   "execution_count": 42,
   "metadata": {},
   "outputs": [
    {
     "name": "stdout",
     "output_type": "stream",
     "text": [
      "qx\n",
      "-0.037101585417985916\n",
      "qy\n",
      "-0.19378603994846344\n",
      "qz\n",
      "-0.1686515361070633\n",
      "qw\n",
      "0.96397864818573\n"
     ]
    }
   ],
   "source": [
    "for key in npzfile.keys():\n",
    "    print(key)\n",
    "    print(npzfile[key][199])"
   ]
  }
 ],
 "metadata": {
  "kernelspec": {
   "display_name": "Python 3.9.12 ('base')",
   "language": "python",
   "name": "python3"
  },
  "language_info": {
   "codemirror_mode": {
    "name": "ipython",
    "version": 3
   },
   "file_extension": ".py",
   "mimetype": "text/x-python",
   "name": "python",
   "nbconvert_exporter": "python",
   "pygments_lexer": "ipython3",
   "version": "3.8.0"
  },
  "vscode": {
   "interpreter": {
    "hash": "5d6b650af6f1107438756dd1352d7a89a41a028ee2fcef37485db36a2d7039ba"
   }
  }
 },
 "nbformat": 4,
 "nbformat_minor": 2
}
